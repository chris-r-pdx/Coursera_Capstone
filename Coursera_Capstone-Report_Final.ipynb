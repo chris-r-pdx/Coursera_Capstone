{
 "cells": [
  {
   "cell_type": "markdown",
   "metadata": {},
   "source": [
    "### Applied Data Science Capstone Project Report\n",
    "Christopher Riper - October 2020"
   ]
  },
  {
   "cell_type": "markdown",
   "metadata": {},
   "source": [
    "#### Introduction: The Problem & Background"
   ]
  },
  {
   "cell_type": "markdown",
   "metadata": {},
   "source": [
    "*Is it possible to warn you, given the weather and road conditions, how severe a car accident you could be in?  Would it make you drive more carefully or possible change your travel timing or route?*\n",
    "\n",
    "The purpose of this project is to attempt to predict the severity of a car accident given certain conditions. \n",
    "\n",
    "There are several potential applications for this prediction model. As noted above, understanding the potential severity of an accident given certain weather, road and other conditions - before you travel - could impact your travel timing or route.  Insurance companies could incentivize drivers to travel at other times when conditions lead to more severe incidents, or make preliminary determinations of monetary exposure they may have in an accident, prior to physical inspections by insurance adjustors, medical evaluations, etc.   \n",
    "\n",
    "A machine learning model will be used to attempt to solve this problem: predicting the severity of a car accident given certain conditions.\n",
    "\n",
    "The following process will be followed:\n",
    "\n",
    "- Data will be collected then explored and visualized to understand its attributes that will be used to train the machine learning model.\n",
    "\n",
    "- That data will then be prepared for modeling through labeling, transformation, filling missing data, etc.\n",
    "\n",
    "- Various algorightms and methods will be selected and applied to build the model, including supervised machine learning techniques.\n",
    "\n",
    "- The model will be be evaluated to ensure the objective is achieved. \n",
    "\n",
    "- Finally, a report will be developed describing the process and results."
   ]
  },
  {
   "cell_type": "markdown",
   "metadata": {},
   "source": [
    "#### The Data: Overview"
   ]
  },
  {
   "cell_type": "markdown",
   "metadata": {},
   "source": [
    "This project will utilize Seattle, WA vehicle accident data from January 1, 2004 through May 20, 2020. Each record in this dataset represents one vehicle accident during this time period. \n",
    "\n",
    "Each accident has a \"severity\" rating, which is a code that corresponds to the severity of the collision.  Within the dataset provided there are two severity ratings:\n",
    "- 1 Property Damage Only Collision\n",
    "- 2 Injury Collision \n",
    "\n",
    "This differs from the metadata that accompanies the dataset which indicates five severity ratings, indicating the data provided may be a subset of the complete dataset:\n",
    "- 3 fatality\n",
    "- 2b serious injury\n",
    "- 2 injury\n",
    "- 1 prop damage\n",
    "- 0 unknown \n",
    "\n",
    "Other attributes for each accident are included, such as incident location, weather, light and road conditions at the time of the indident, the number of vehicles involved, whether a pedestrian was involved, etc.\n",
    "\n",
    "For example, the weather attribute has the following values:\n",
    "- Clear\n",
    "- Raining\n",
    "- Overcast\n",
    "- Unknown\n",
    "- Snowing\n",
    "- Other\n",
    "- Fog/Smog/Smoke\n",
    "- Sleet/Hail/Freezing Rain\n",
    "- Blowing Sand/Dirt\n",
    "- Severe Crosswind\n",
    "- Partly Cloudy\n",
    "\n",
    "And the road condition attribute has the following values:\n",
    "- Dry\n",
    "- Wet\n",
    "- Unknown\n",
    "- Ice\n",
    "- Snow/Slush\n",
    "- Other\n",
    "- Standing Water\n",
    "- Sand/Mud/Dirt\n",
    "- Oil\n",
    "\n",
    "Complete metadata for this dataset is provided <a href='https://s3.us.cloud-object-storage.appdomain.cloud/cf-courses-data/CognitiveClass/DP0701EN/version-2/Metadata.pdf'>here</a>.\n",
    "\n",
    "The purpose of this exercise is to develop a model which will predict the \"severity\" of an accident (the target/dependent variable) based upon other characteristics surrounding the collision (the independent variables)."
   ]
  },
  {
   "cell_type": "markdown",
   "metadata": {},
   "source": [
    "#### Methodology\n",
    "\n",
    "The data exploration phase revealed numerous potential accident attributes which can be considered for my predictive machine learning model.  The dependent variable (SEVERITYCODE) is not perfectly balanced, but not so skewed such that I will try and balance unless it causes issues with our model.\n",
    "\n",
    "Not all of these incident attributes will be used in the model. I removed several features from the dataset which were duplicative or did not appear to have any predictive value:\n",
    "* OBJECTID\n",
    "* INCKEY\n",
    "* COLDETKEY\n",
    "* REPORTNO\n",
    "* STATUS\n",
    "* EXCEPTRSNCODE\n",
    "* EXCEPTRSNDESC\n",
    "* SEVERITYCODE.1\n",
    "* SDOTCOLNUM\n",
    "* ST_COLCODE\n",
    "* ST_COLDESC\n",
    "* SEGLANEKEY\n",
    "\n",
    "To make our prediction I will use data points which would likely be \"known\" to a driver prior to leaving on a trip: weather conditions (WEATHER), road conditions (ROADCOND), and the light conditions (LIGHTCOND).  I could use the time of day (hour) however in the data exploration phase it was noted that many records did not specify the time of day, and the lighting conditions is likely a better indicator.\n",
    "\n",
    "Each of the three attributes selected for our model has 8+ values, several of which appear to be used infrequently. To simplify the model these various values will be aggregated.  The following featuers were then used to predict the SEVERITYCODE:\n",
    "* Weather_Bad         \n",
    "* Weather_Clear       \n",
    "* Weather_Impaired    \n",
    "* Road_Dry            \n",
    "* Road_Impaired       \n",
    "* Road_Wet            \n",
    "* Light_DawnDusk      \n",
    "* Light_Daylight      \n",
    "* Light_Impaired      \n",
    "\n",
    "I will attempt to make a prediction using two classification models: decision tree and logistic regression.  \n",
    "\n",
    "The data will then be split into training and test datasets, and the models will be evaluated. I will also make minor adjustments to the dataset, by changing the training/testing data split and adding a feature (PERSONCOUNT), to see whether that changes the accuracy of the mode."
   ]
  },
  {
   "cell_type": "markdown",
   "metadata": {},
   "source": [
    "#### Results\n",
    "\n",
    "I built four models, each with very similar results: \n",
    "\n",
    "1. Decision Tree - This model used a 70%/30% split between training/testing data.  The resulting accuracy score was 0.6994109790760591. \n",
    "2. Logistic Regression 1 - This model used the same 70%/30% split between training/testing data as the Decision Tree.  The resulting accuracy score was 0.6994109790760591.\n",
    "3. Logistic Regression 2 - This model was similar to Logistic Regression 1 but the data was split 80%/20% for training/testing. The resulting accuracy score was 0.6992423269551817.\n",
    "4. Logistic Regression 3 - This model added a feature, PERSONCOUNT (the number of persons involved in the accident). Data was split 80%/20% for training/testing. The resulting accuracy score was 0.7006806215487351.\n"
   ]
  },
  {
   "cell_type": "markdown",
   "metadata": {},
   "source": [
    "#### Discussion\n",
    "\n",
    "For this project I thought it would be interesting to experiment by both comparing two different models and making a few changes to size of training data / features used to see the impact.  I was surprised how similar the accuracy scores were for each of the models, even when another feature was added to the final model. \n",
    "\n",
    "There is still room for improvement. I could have further explored balancing the dataset before developing my prediction models.  There are additional features within the dataset which could be predictive in their current form or through feature engineering. Other prediction models could also be tested.\n",
    "\n",
    "Finally, although predicting the severity of an accident is an interesting problem it might be more useful to attempt to predict **whether an accident will occur**, which would require additional data."
   ]
  },
  {
   "cell_type": "markdown",
   "metadata": {},
   "source": [
    "#### Conclusion\n",
    "\n",
    "I was able to create a model that predicts with 70% accuracy the severity of an accident in Seattle, WA using road conditions, weather conditions, light conditions and the number of persons involved in the accident. This could be useful for persons driving in the area to understand their risk should they be in an accident, or insurance companies attempting to make an initial accident assessment."
   ]
  }
 ],
 "metadata": {
  "kernelspec": {
   "display_name": "Python 3",
   "language": "python",
   "name": "python3"
  },
  "language_info": {
   "codemirror_mode": {
    "name": "ipython",
    "version": 3
   },
   "file_extension": ".py",
   "mimetype": "text/x-python",
   "name": "python",
   "nbconvert_exporter": "python",
   "pygments_lexer": "ipython3",
   "version": "3.6.3"
  }
 },
 "nbformat": 4,
 "nbformat_minor": 4
}
